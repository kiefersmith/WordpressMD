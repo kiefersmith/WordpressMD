{
 "cells": [
  {
   "cell_type": "markdown",
   "metadata": {},
   "source": [
    "---\n",
    "title: \"Take your data frames to the next level.\"\n",
    "author: \"Kiefer\"\n",
    "date: \"March 30, 2017\"\n",
    "output: html_document\n",
    "---\n",
    "\n",
    "<img class=\"alignnone size-full wp-image-458 aligncenter\" src=\"https://realdataweb.files.wordpress.com/2017/03/leo.jpg\" alt=\"leo\" width=\"600\" height=\"400\" />\n",
    "\n",
    "While finishing up with R-rockstar Hadley Wickham's book (<a href=\"https://realdataweb.wordpress.com/2017/01/06/free-book-r-for-data-science/\" target=\"_blank\">Free Book – R for Data Science</a>), <a href=\"http://r4ds.had.co.nz/model-building.html\">the section on model building</a> elaborates on something pretty cool - list columns.\n",
    "\n",
    "Most of us have probably seen the following data frame column format:"
   ]
  },
  {
   "cell_type": "code",
   "execution_count": 1,
   "metadata": {
    "collapsed": true
   },
   "outputs": [],
   "source": [
    "df <- data.frame(\"col_uno\" = c(1,2,3),\"col_dos\" = c('a','b','c'), \"col_tres\" = factor(c(\"google\", \"apple\", \"amazon\")))"
   ]
  },
  {
   "cell_type": "markdown",
   "metadata": {},
   "source": [
    "And the output"
   ]
  },
  {
   "cell_type": "code",
   "execution_count": 2,
   "metadata": {},
   "outputs": [
    {
     "data": {
      "text/html": [
       "<table>\n",
       "<thead><tr><th scope=col>col_uno</th><th scope=col>col_dos</th><th scope=col>col_tres</th></tr></thead>\n",
       "<tbody>\n",
       "\t<tr><td>1     </td><td>a     </td><td>google</td></tr>\n",
       "\t<tr><td>2     </td><td>b     </td><td>apple </td></tr>\n",
       "\t<tr><td>3     </td><td>c     </td><td>amazon</td></tr>\n",
       "</tbody>\n",
       "</table>\n"
      ],
      "text/latex": [
       "\\begin{tabular}{r|lll}\n",
       " col\\_uno & col\\_dos & col\\_tres\\\\\n",
       "\\hline\n",
       "\t 1      & a      & google\\\\\n",
       "\t 2      & b      & apple \\\\\n",
       "\t 3      & c      & amazon\\\\\n",
       "\\end{tabular}\n"
      ],
      "text/markdown": [
       "\n",
       "col_uno | col_dos | col_tres | \n",
       "|---|---|---|\n",
       "| 1      | a      | google | \n",
       "| 2      | b      | apple  | \n",
       "| 3      | c      | amazon | \n",
       "\n",
       "\n"
      ],
      "text/plain": [
       "  col_uno col_dos col_tres\n",
       "1 1       a       google  \n",
       "2 2       b       apple   \n",
       "3 3       c       amazon  "
      ]
     },
     "metadata": {},
     "output_type": "display_data"
    }
   ],
   "source": [
    "df"
   ]
  },
  {
   "cell_type": "markdown",
   "metadata": {},
   "source": [
    "This is an awesome way to organize data and one of R's strong points.  However, we can use list functionality to go deeper.  Check this out:"
   ]
  },
  {
   "cell_type": "code",
   "execution_count": 3,
   "metadata": {},
   "outputs": [
    {
     "name": "stderr",
     "output_type": "stream",
     "text": [
      "Loading tidyverse: ggplot2\n",
      "Loading tidyverse: tibble\n",
      "Loading tidyverse: tidyr\n",
      "Loading tidyverse: readr\n",
      "Loading tidyverse: purrr\n",
      "Loading tidyverse: dplyr\n",
      "Conflicts with tidy packages ---------------------------------------------------\n",
      "filter(): dplyr, stats\n",
      "lag():    dplyr, stats\n"
     ]
    }
   ],
   "source": [
    "library(tidyverse)\n",
    "library(datasets)"
   ]
  },
  {
   "cell_type": "code",
   "execution_count": 4,
   "metadata": {},
   "outputs": [
    {
     "data": {
      "text/html": [
       "<table>\n",
       "<thead><tr><th scope=col>Sepal.Length</th><th scope=col>Sepal.Width</th><th scope=col>Petal.Length</th><th scope=col>Petal.Width</th><th scope=col>Species</th></tr></thead>\n",
       "<tbody>\n",
       "\t<tr><td>5.1   </td><td>3.5   </td><td>1.4   </td><td>0.2   </td><td>setosa</td></tr>\n",
       "\t<tr><td>4.9   </td><td>3.0   </td><td>1.4   </td><td>0.2   </td><td>setosa</td></tr>\n",
       "\t<tr><td>4.7   </td><td>3.2   </td><td>1.3   </td><td>0.2   </td><td>setosa</td></tr>\n",
       "\t<tr><td>4.6   </td><td>3.1   </td><td>1.5   </td><td>0.2   </td><td>setosa</td></tr>\n",
       "\t<tr><td>5.0   </td><td>3.6   </td><td>1.4   </td><td>0.2   </td><td>setosa</td></tr>\n",
       "\t<tr><td>5.4   </td><td>3.9   </td><td>1.7   </td><td>0.4   </td><td>setosa</td></tr>\n",
       "</tbody>\n",
       "</table>\n"
      ],
      "text/latex": [
       "\\begin{tabular}{r|lllll}\n",
       " Sepal.Length & Sepal.Width & Petal.Length & Petal.Width & Species\\\\\n",
       "\\hline\n",
       "\t 5.1    & 3.5    & 1.4    & 0.2    & setosa\\\\\n",
       "\t 4.9    & 3.0    & 1.4    & 0.2    & setosa\\\\\n",
       "\t 4.7    & 3.2    & 1.3    & 0.2    & setosa\\\\\n",
       "\t 4.6    & 3.1    & 1.5    & 0.2    & setosa\\\\\n",
       "\t 5.0    & 3.6    & 1.4    & 0.2    & setosa\\\\\n",
       "\t 5.4    & 3.9    & 1.7    & 0.4    & setosa\\\\\n",
       "\\end{tabular}\n"
      ],
      "text/markdown": [
       "\n",
       "Sepal.Length | Sepal.Width | Petal.Length | Petal.Width | Species | \n",
       "|---|---|---|---|---|---|\n",
       "| 5.1    | 3.5    | 1.4    | 0.2    | setosa | \n",
       "| 4.9    | 3.0    | 1.4    | 0.2    | setosa | \n",
       "| 4.7    | 3.2    | 1.3    | 0.2    | setosa | \n",
       "| 4.6    | 3.1    | 1.5    | 0.2    | setosa | \n",
       "| 5.0    | 3.6    | 1.4    | 0.2    | setosa | \n",
       "| 5.4    | 3.9    | 1.7    | 0.4    | setosa | \n",
       "\n",
       "\n"
      ],
      "text/plain": [
       "  Sepal.Length Sepal.Width Petal.Length Petal.Width Species\n",
       "1 5.1          3.5         1.4          0.2         setosa \n",
       "2 4.9          3.0         1.4          0.2         setosa \n",
       "3 4.7          3.2         1.3          0.2         setosa \n",
       "4 4.6          3.1         1.5          0.2         setosa \n",
       "5 5.0          3.6         1.4          0.2         setosa \n",
       "6 5.4          3.9         1.7          0.4         setosa "
      ]
     },
     "metadata": {},
     "output_type": "display_data"
    }
   ],
   "source": [
    "head(iris)\n",
    "\n",
    "nested <- iris %>%\n",
    "  group_by(Species) %>%\n",
    "  nest()"
   ]
  },
  {
   "cell_type": "markdown",
   "metadata": {},
   "source": [
    "Using `nest` we can compartmentalize our data frame for readability and more efficient iteration.  Here we can use `map` from the `purrr` package to compute the mean of each column in our nested data."
   ]
  },
  {
   "cell_type": "code",
   "execution_count": 8,
   "metadata": {},
   "outputs": [
    {
     "data": {
      "text/html": [
       "<ol>\n",
       "\t<li><dl class=dl-horizontal>\n",
       "\t<dt>Sepal.Length</dt>\n",
       "\t\t<dd>5.006</dd>\n",
       "\t<dt>Sepal.Width</dt>\n",
       "\t\t<dd>3.428</dd>\n",
       "\t<dt>Petal.Length</dt>\n",
       "\t\t<dd>1.462</dd>\n",
       "\t<dt>Petal.Width</dt>\n",
       "\t\t<dd>0.246</dd>\n",
       "</dl>\n",
       "</li>\n",
       "\t<li><dl class=dl-horizontal>\n",
       "\t<dt>Sepal.Length</dt>\n",
       "\t\t<dd>5.936</dd>\n",
       "\t<dt>Sepal.Width</dt>\n",
       "\t\t<dd>2.77</dd>\n",
       "\t<dt>Petal.Length</dt>\n",
       "\t\t<dd>4.26</dd>\n",
       "\t<dt>Petal.Width</dt>\n",
       "\t\t<dd>1.326</dd>\n",
       "</dl>\n",
       "</li>\n",
       "\t<li><dl class=dl-horizontal>\n",
       "\t<dt>Sepal.Length</dt>\n",
       "\t\t<dd>6.588</dd>\n",
       "\t<dt>Sepal.Width</dt>\n",
       "\t\t<dd>2.974</dd>\n",
       "\t<dt>Petal.Length</dt>\n",
       "\t\t<dd>5.552</dd>\n",
       "\t<dt>Petal.Width</dt>\n",
       "\t\t<dd>2.026</dd>\n",
       "</dl>\n",
       "</li>\n",
       "</ol>\n"
      ],
      "text/latex": [
       "\\begin{enumerate}\n",
       "\\item \\begin{description*}\n",
       "\\item[Sepal.Length] 5.006\n",
       "\\item[Sepal.Width] 3.428\n",
       "\\item[Petal.Length] 1.462\n",
       "\\item[Petal.Width] 0.246\n",
       "\\end{description*}\n",
       "\n",
       "\\item \\begin{description*}\n",
       "\\item[Sepal.Length] 5.936\n",
       "\\item[Sepal.Width] 2.77\n",
       "\\item[Petal.Length] 4.26\n",
       "\\item[Petal.Width] 1.326\n",
       "\\end{description*}\n",
       "\n",
       "\\item \\begin{description*}\n",
       "\\item[Sepal.Length] 6.588\n",
       "\\item[Sepal.Width] 2.974\n",
       "\\item[Petal.Length] 5.552\n",
       "\\item[Petal.Width] 2.026\n",
       "\\end{description*}\n",
       "\n",
       "\\end{enumerate}\n"
      ],
      "text/markdown": [
       "1. Sepal.Length\n",
       ":   5.006Sepal.Width\n",
       ":   3.428Petal.Length\n",
       ":   1.462Petal.Width\n",
       ":   0.246\n",
       "\n",
       "\n",
       "2. Sepal.Length\n",
       ":   5.936Sepal.Width\n",
       ":   2.77Petal.Length\n",
       ":   4.26Petal.Width\n",
       ":   1.326\n",
       "\n",
       "\n",
       "3. Sepal.Length\n",
       ":   6.588Sepal.Width\n",
       ":   2.974Petal.Length\n",
       ":   5.552Petal.Width\n",
       ":   2.026\n",
       "\n",
       "\n",
       "\n",
       "\n"
      ],
      "text/plain": [
       "[[1]]\n",
       "Sepal.Length  Sepal.Width Petal.Length  Petal.Width \n",
       "       5.006        3.428        1.462        0.246 \n",
       "\n",
       "[[2]]\n",
       "Sepal.Length  Sepal.Width Petal.Length  Petal.Width \n",
       "       5.936        2.770        4.260        1.326 \n",
       "\n",
       "[[3]]\n",
       "Sepal.Length  Sepal.Width Petal.Length  Petal.Width \n",
       "       6.588        2.974        5.552        2.026 \n"
      ]
     },
     "metadata": {},
     "output_type": "display_data"
    }
   ],
   "source": [
    "means <- map(nested$data, colMeans)\n",
    "means"
   ]
  },
  {
   "cell_type": "markdown",
   "metadata": {},
   "source": [
    "Once you're done messing around with data-ception, use `unnest` to revert your data back to its original state."
   ]
  },
  {
   "cell_type": "code",
   "execution_count": 7,
   "metadata": {},
   "outputs": [
    {
     "data": {
      "text/html": [
       "<table>\n",
       "<thead><tr><th scope=col>Species</th><th scope=col>Sepal.Length</th><th scope=col>Sepal.Width</th><th scope=col>Petal.Length</th><th scope=col>Petal.Width</th></tr></thead>\n",
       "<tbody>\n",
       "\t<tr><td>setosa</td><td>5.1   </td><td>3.5   </td><td>1.4   </td><td>0.2   </td></tr>\n",
       "\t<tr><td>setosa</td><td>4.9   </td><td>3.0   </td><td>1.4   </td><td>0.2   </td></tr>\n",
       "\t<tr><td>setosa</td><td>4.7   </td><td>3.2   </td><td>1.3   </td><td>0.2   </td></tr>\n",
       "\t<tr><td>setosa</td><td>4.6   </td><td>3.1   </td><td>1.5   </td><td>0.2   </td></tr>\n",
       "\t<tr><td>setosa</td><td>5.0   </td><td>3.6   </td><td>1.4   </td><td>0.2   </td></tr>\n",
       "\t<tr><td>setosa</td><td>5.4   </td><td>3.9   </td><td>1.7   </td><td>0.4   </td></tr>\n",
       "</tbody>\n",
       "</table>\n"
      ],
      "text/latex": [
       "\\begin{tabular}{r|lllll}\n",
       " Species & Sepal.Length & Sepal.Width & Petal.Length & Petal.Width\\\\\n",
       "\\hline\n",
       "\t setosa & 5.1    & 3.5    & 1.4    & 0.2   \\\\\n",
       "\t setosa & 4.9    & 3.0    & 1.4    & 0.2   \\\\\n",
       "\t setosa & 4.7    & 3.2    & 1.3    & 0.2   \\\\\n",
       "\t setosa & 4.6    & 3.1    & 1.5    & 0.2   \\\\\n",
       "\t setosa & 5.0    & 3.6    & 1.4    & 0.2   \\\\\n",
       "\t setosa & 5.4    & 3.9    & 1.7    & 0.4   \\\\\n",
       "\\end{tabular}\n"
      ],
      "text/markdown": [
       "\n",
       "Species | Sepal.Length | Sepal.Width | Petal.Length | Petal.Width | \n",
       "|---|---|---|---|---|---|\n",
       "| setosa | 5.1    | 3.5    | 1.4    | 0.2    | \n",
       "| setosa | 4.9    | 3.0    | 1.4    | 0.2    | \n",
       "| setosa | 4.7    | 3.2    | 1.3    | 0.2    | \n",
       "| setosa | 4.6    | 3.1    | 1.5    | 0.2    | \n",
       "| setosa | 5.0    | 3.6    | 1.4    | 0.2    | \n",
       "| setosa | 5.4    | 3.9    | 1.7    | 0.4    | \n",
       "\n",
       "\n"
      ],
      "text/plain": [
       "  Species Sepal.Length Sepal.Width Petal.Length Petal.Width\n",
       "1 setosa  5.1          3.5         1.4          0.2        \n",
       "2 setosa  4.9          3.0         1.4          0.2        \n",
       "3 setosa  4.7          3.2         1.3          0.2        \n",
       "4 setosa  4.6          3.1         1.5          0.2        \n",
       "5 setosa  5.0          3.6         1.4          0.2        \n",
       "6 setosa  5.4          3.9         1.7          0.4        "
      ]
     },
     "metadata": {},
     "output_type": "display_data"
    }
   ],
   "source": [
    "head(unnest(nested))"
   ]
  },
  {
   "cell_type": "markdown",
   "metadata": {},
   "source": [
    "I was pretty excited to learn about this property of data.frames and will definitely make use of it in the future.  If you have any neat ideas how this might be used, please feel free to share in the comments."
   ]
  }
 ],
 "metadata": {
  "kernelspec": {
   "display_name": "R",
   "language": "R",
   "name": "ir"
  },
  "language_info": {
   "codemirror_mode": "r",
   "file_extension": ".r",
   "mimetype": "text/x-r-source",
   "name": "R",
   "pygments_lexer": "r",
   "version": "3.3.3"
  }
 },
 "nbformat": 4,
 "nbformat_minor": 2
}
